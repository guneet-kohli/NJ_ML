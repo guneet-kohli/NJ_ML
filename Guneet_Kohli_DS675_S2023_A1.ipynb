{
  "nbformat": 4,
  "nbformat_minor": 0,
  "metadata": {
    "colab": {
      "provenance": []
    },
    "kernelspec": {
      "display_name": "Python 3",
      "language": "python",
      "name": "python3"
    },
    "language_info": {
      "codemirror_mode": {
        "name": "ipython",
        "version": 3
      },
      "file_extension": ".py",
      "mimetype": "text/x-python",
      "name": "python",
      "nbconvert_exporter": "python",
      "pygments_lexer": "ipython3",
      "version": "3.8.5"
    }
  },
  "cells": [
    {
      "cell_type": "markdown",
      "metadata": {
        "id": "rKkAg6z5MqMZ"
      },
      "source": [
        "# New Jersey Institute of Technology\n",
        "# DS 675: Machine Learning, Spring 2023\n",
        "\n",
        "# Assignment 1\n",
        "*   Date: 1/24/2023\n",
        "*   **Due: 2/7/2023, 11:59pm EST**\n",
        "*   Total possible points: 20. \n",
        "\n",
        "## Instructions\n",
        "*   Copy it locally or edit it as a copy in your Google-Colab (File-->Save in Drive). \n",
        "*   Delivery Method: Upload a Jupyter notebook following the suggested name convention. \n",
        "*   Note: you can access the file only with your NJIT-Google-Account.  Private accounts will not have access. \n",
        "*   Submit your solution on CANVAS. Late submissions are penalized with 10% of total points per day. \n",
        "\n",
        "## Academic Policy\n",
        "A set of ethical principles governing this course:\n",
        "*   It is okay to share information and knowledge with your \n",
        "colleagues, but\n",
        "*   **It is not okay** to share the code,\n",
        "*   **It is not okay** to post or give out your code to others (also in the future!),\n",
        "*   **It is not okay** to use code from others (also from the past) for this Assignment!\n",
        "\n",
        "**Any noticed disregard of these principles will be sanctioned** as per the Academic Integrity Policy of NJIT (http://www5.njit.edu/policies/sites/policies/files/academic-integrity-code.pdf).\n",
        "\n",
        "## Late Policy\n",
        "Late submissions are penalized with 10% of total points per day. Max late due is 2/13/2022. \n"
      ]
    },
    {
      "cell_type": "markdown",
      "metadata": {
        "id": "e8SKy70z2osa"
      },
      "source": [
        "----\n",
        "\n",
        "<i>General instructions for this and future notebooks:</i> \n",
        "1. To run a cell and move to the next cell: Hold down <strong>Shift</strong> and press <strong>Enter</strong>\n",
        "2. To run a cell and stay in the same cell: Hold down <b>Ctrl</b> and press <b>Enter</b>\n",
        "3. Use the arrow up and down to navigate or do it manually as you prefer\n",
        "4. Escape from typing a cell: Hit <b>Esc</b>\n",
        "\n",
        "---------\n"
      ]
    },
    {
      "cell_type": "markdown",
      "metadata": {
        "id": "ly4laI7pfGJO"
      },
      "source": [
        "# Assignment 1\n",
        "The first assignment walks you through some elements of Python/Numpy. It is meant mostly to familiarize you with Jypyter notebooks. It also lets you to load and explore a data set. \n",
        "Write code in the cells below each task. \n",
        "\n"
      ]
    },
    {
      "cell_type": "markdown",
      "metadata": {
        "id": "8owP8xk_yi6h"
      },
      "source": [
        "-----------------------"
      ]
    },
    {
      "cell_type": "code",
      "metadata": {
        "id": "e-oPmxrSfGLF"
      },
      "source": [
        "import numpy as np\n",
        "from numpy import array\n",
        "from numpy import matmul\n",
        "from numpy.linalg import inv\n",
        "from numpy.random import rand\n",
        "from scipy import stats\n",
        "import matplotlib.pyplot as plt\n"
      ],
      "execution_count": 16,
      "outputs": []
    },
    {
      "cell_type": "markdown",
      "metadata": {
        "id": "Vbt-t8rpEP7R"
      },
      "source": [
        "-----"
      ]
    },
    {
      "cell_type": "markdown",
      "metadata": {
        "id": "pThX3EGLErq8"
      },
      "source": [
        "# Part 1: Linear Equations and Regression"
      ]
    },
    {
      "cell_type": "markdown",
      "metadata": {
        "id": "77y-VVzxfGLH"
      },
      "source": [
        "---\n",
        "## Task 1\n",
        "\n",
        "Write code for solving a system of four linear equations with 4 unknowns. Solve the following problem: <br>\n",
        "$x_1 + 2x_2 + 3x_3 + 5x_4 = 10$<br>\n",
        "$4x_1 + 4x_2 + 5x_3 + 3x_4=4$<br>\n",
        "$3x_1 + 8x_2 + 9x_3 + x_4= 3$<br>\n",
        "$x_1 + x_2 + 3x_3 = 7$<br><br>\n",
        "\n",
        "Afterwards, check results with allclose( ) function. And print out x.\n",
        "\n",
        "<b>Expected result</b><br>x = array([-1.17857143, -3.875     ,  4.01785714,  1.375     ])\n"
      ]
    },
    {
      "cell_type": "code",
      "metadata": {
        "id": "A0wIhEbW04b7",
        "colab": {
          "base_uri": "https://localhost:8080/"
        },
        "outputId": "c5d2449b-21a1-4ded-909a-b6f72b103e0a"
      },
      "source": [
        "# your code goes here:\n",
        "mat_A=np.array([[1,2,3,5],\n",
        "       [4,4,5,3],\n",
        "       [3,8,9,1],\n",
        "       [1,1,3,0]])\n",
        "mat_B=np.array([[10],\n",
        "            [4],\n",
        "            [3],\n",
        "            [7]])\n",
        "A_inv = np.linalg.inv(mat_A)\n",
        "#Ax=B \n",
        "# x= DOT PRODUcT OF MATRIX A INVERSE AND B\n",
        "x=np.dot(A_inv,mat_B)\n",
        "#ALTERNATE WAY TO SOLVE WITHOUT INVERSE: x=np.linalg.solve(mat_A,mat_B)\n",
        "print('x =',x)"
      ],
      "execution_count": 17,
      "outputs": [
        {
          "output_type": "stream",
          "name": "stdout",
          "text": [
            "x = [[-1.17857143]\n",
            " [-3.875     ]\n",
            " [ 4.01785714]\n",
            " [ 1.375     ]]\n"
          ]
        }
      ]
    },
    {
      "cell_type": "code",
      "metadata": {
        "id": "nO4O7mrRBdeu",
        "colab": {
          "base_uri": "https://localhost:8080/"
        },
        "outputId": "49349f3b-2834-49f6-bafa-a63a7d4b4d9f"
      },
      "source": [
        "# check results with allclose() function\n",
        "# your code goes here: \n",
        "np.allclose(np.dot(mat_A,x),mat_B)"
      ],
      "execution_count": 18,
      "outputs": [
        {
          "output_type": "execute_result",
          "data": {
            "text/plain": [
              "True"
            ]
          },
          "metadata": {},
          "execution_count": 18
        }
      ]
    },
    {
      "cell_type": "markdown",
      "metadata": {
        "id": "4wnwNTsS-FNN"
      },
      "source": [
        "\n",
        "\n",
        "---\n",
        "\n",
        "\n",
        "## Task 2\n",
        "Linear regression. The code below creates a random scattering of datapoints around a line. \n",
        "1. Use the normal equations to compute a line which has the best fit to all points \n",
        "in the least-squares sense. \n",
        "2. Next, plot the fitted line and the data points. \n"
      ]
    },
    {
      "cell_type": "code",
      "metadata": {
        "colab": {
          "base_uri": "https://localhost:8080/",
          "height": 265
        },
        "id": "GTQVOI7n-QXt",
        "outputId": "78a011f5-ccf1-4e71-8723-cadc66eb4158"
      },
      "source": [
        "# generate data on a line perturbed with some noise\n",
        "noise_margin= 0.76\n",
        "# w[0] is random constant term (offset from origin)\n",
        "# w[1] is random linear term (slope)\n",
        "w = rand(2,1) \n",
        "x = np.linspace(-5,5,20)\n",
        "y = w[0] + w[1]*x + noise_margin * rand(len(x))\n",
        "# create the design matrix X: the x data, and add a column of ones for the constant term\n",
        "X = np.column_stack( [np.ones([len(x), 1]), x.reshape(-1, 1)] )\n",
        "# visualize the data\n",
        "plt.scatter(x, y)\n",
        "plt.show()"
      ],
      "execution_count": 31,
      "outputs": [
        {
          "output_type": "display_data",
          "data": {
            "text/plain": [
              "<Figure size 432x288 with 1 Axes>"
            ],
            "image/png": "[encoded data removed]"
          },
          "metadata": {
            "needs_background": "light"
          }
        }
      ]
    },
    {
      "cell_type": "code",
      "source": [
        "# X^T . X . b = X^T . y <Normal equation>\n",
        "# b = (X^T . X)^-1 . X^T . y\n",
        "b = inv(X.T.dot(X)).dot(X.T).dot(y) #Linear least squares\n",
        "print(b)\n",
        "yhat = X.dot(b) # prediction using coefficients\n",
        "plt.scatter(x,y)\n",
        "plt.plot(x,yhat,c='red')\n",
        "plt.show()"
      ],
      "metadata": {
        "colab": {
          "base_uri": "https://localhost:8080/",
          "height": 282
        },
        "id": "6OiO7C8v96sn",
        "outputId": "8069e2cc-8740-4e7c-b569-c2a5931aa513"
      },
      "execution_count": 32,
      "outputs": [
        {
          "output_type": "stream",
          "name": "stdout",
          "text": [
            "[1.04007534 0.33495993]\n"
          ]
        },
        {
          "output_type": "display_data",
          "data": {
            "text/plain": [
              "<Figure size 432x288 with 1 Axes>"
            ],
            "image/png": "[encoded data removed]"
          },
          "metadata": {
            "needs_background": "light"
          }
        }
      ]
    },
    {
      "cell_type": "markdown",
      "metadata": {
        "id": "6jdQmQyhS540"
      },
      "source": [
        "-----\n"
      ]
    },
    {
      "cell_type": "markdown",
      "metadata": {
        "id": "dwkiT0HxE6cx"
      },
      "source": [
        "# Part 2: Exploring a Data Set\n"
      ]
    },
    {
      "cell_type": "markdown",
      "metadata": {
        "id": "pLPCrSbESmEE"
      },
      "source": [
        "## Loading the data set"
      ]
    },
    {
      "cell_type": "code",
      "metadata": {
        "id": "yJ9yDB9ufGLL",
        "colab": {
          "base_uri": "https://localhost:8080/"
        },
        "outputId": "5e582a05-1bb7-4f3f-9f33-64761f2fdb30"
      },
      "source": [
        "from sklearn.datasets import load_boston\n",
        "ds = load_boston()\n",
        "samples, label, feature_names = ds.data, ds.target, ds.feature_names\n",
        "print(samples.shape)\n",
        "print(feature_names)"
      ],
      "execution_count": 21,
      "outputs": [
        {
          "output_type": "stream",
          "name": "stdout",
          "text": [
            "(506, 13)\n",
            "['CRIM' 'ZN' 'INDUS' 'CHAS' 'NOX' 'RM' 'AGE' 'DIS' 'RAD' 'TAX' 'PTRATIO' 'B' 'LSTAT']\n"
          ]
        },
        {
          "output_type": "stream",
          "name": "stderr",
          "text": [
            "/usr/local/lib/python3.8/dist-packages/sklearn/utils/deprecation.py:87: FutureWarning: Function load_boston is deprecated; `load_boston` is deprecated in 1.0 and will be removed in 1.2.\n",
            "\n",
            "    The Boston housing prices dataset has an ethical problem. You can refer to\n",
            "    the documentation of this function for further details.\n",
            "\n",
            "    The scikit-learn maintainers therefore strongly discourage the use of this\n",
            "    dataset unless the purpose of the code is to study and educate about\n",
            "    ethical issues in data science and machine learning.\n",
            "\n",
            "    In this special case, you can fetch the dataset from the original\n",
            "    source::\n",
            "\n",
            "        import pandas as pd\n",
            "        import numpy as np\n",
            "\n",
            "\n",
            "        data_url = \"http://lib.stat.cmu.edu/datasets/boston\"\n",
            "        raw_df = pd.read_csv(data_url, sep=\"\\s+\", skiprows=22, header=None)\n",
            "        data = np.hstack([raw_df.values[::2, :], raw_df.values[1::2, :2]])\n",
            "        target = raw_df.values[1::2, 2]\n",
            "\n",
            "    Alternative datasets include the California housing dataset (i.e.\n",
            "    :func:`~sklearn.datasets.fetch_california_housing`) and the Ames housing\n",
            "    dataset. You can load the datasets as follows::\n",
            "\n",
            "        from sklearn.datasets import fetch_california_housing\n",
            "        housing = fetch_california_housing()\n",
            "\n",
            "    for the California housing dataset and::\n",
            "\n",
            "        from sklearn.datasets import fetch_openml\n",
            "        housing = fetch_openml(name=\"house_prices\", as_frame=True)\n",
            "\n",
            "    for the Ames housing dataset.\n",
            "    \n",
            "  warnings.warn(msg, category=FutureWarning)\n"
          ]
        }
      ]
    },
    {
      "cell_type": "code",
      "metadata": {
        "id": "635Xsy-CfGLO",
        "colab": {
          "base_uri": "https://localhost:8080/"
        },
        "outputId": "5bab18bc-a523-46a5-c16a-b1fbbeef0ea7"
      },
      "source": [
        "# Data description\n",
        "print(ds.DESCR)"
      ],
      "execution_count": 22,
      "outputs": [
        {
          "output_type": "stream",
          "name": "stdout",
          "text": [
            ".. _boston_dataset:\n",
            "\n",
            "Boston house prices dataset\n",
            "---------------------------\n",
            "\n",
            "**Data Set Characteristics:**  \n",
            "\n",
            "    :Number of Instances: 506 \n",
            "\n",
            "    :Number of Attributes: 13 numeric/categorical predictive. Median Value (attribute 14) is usually the target.\n",
            "\n",
            "    :Attribute Information (in order):\n",
            "        - CRIM     per capita crime rate by town\n",
            "        - ZN       proportion of residential land zoned for lots over 25,000 sq.ft.\n",
            "        - INDUS    proportion of non-retail business acres per town\n",
            "        - CHAS     Charles River dummy variable (= 1 if tract bounds river; 0 otherwise)\n",
            "        - NOX      nitric oxides concentration (parts per 10 million)\n",
            "        - RM       average number of rooms per dwelling\n",
            "        - AGE      proportion of owner-occupied units built prior to 1940\n",
            "        - DIS      weighted distances to five Boston employment centres\n",
            "        - RAD      index of accessibility to radial highways\n",
            "        - TAX      full-value property-tax rate per $10,000\n",
            "        - PTRATIO  pupil-teacher ratio by town\n",
            "        - B        1000(Bk - 0.63)^2 where Bk is the proportion of black people by town\n",
            "        - LSTAT    % lower status of the population\n",
            "        - MEDV     Median value of owner-occupied homes in $1000's\n",
            "\n",
            "    :Missing Attribute Values: None\n",
            "\n",
            "    :Creator: Harrison, D. and Rubinfeld, D.L.\n",
            "\n",
            "This is a copy of UCI ML housing dataset.\n",
            "https://archive.ics.uci.edu/ml/machine-learning-databases/housing/\n",
            "\n",
            "\n",
            "This dataset was taken from the StatLib library which is maintained at Carnegie Mellon University.\n",
            "\n",
            "The Boston house-price data of Harrison, D. and Rubinfeld, D.L. 'Hedonic\n",
            "prices and the demand for clean air', J. Environ. Economics & Management,\n",
            "vol.5, 81-102, 1978.   Used in Belsley, Kuh & Welsch, 'Regression diagnostics\n",
            "...', Wiley, 1980.   N.B. Various transformations are used in the table on\n",
            "pages 244-261 of the latter.\n",
            "\n",
            "The Boston house-price data has been used in many machine learning papers that address regression\n",
            "problems.   \n",
            "     \n",
            ".. topic:: References\n",
            "\n",
            "   - Belsley, Kuh & Welsch, 'Regression diagnostics: Identifying Influential Data and Sources of Collinearity', Wiley, 1980. 244-261.\n",
            "   - Quinlan,R. (1993). Combining Instance-Based and Model-Based Learning. In Proceedings on the Tenth International Conference of Machine Learning, 236-243, University of Massachusetts, Amherst. Morgan Kaufmann.\n",
            "\n"
          ]
        }
      ]
    },
    {
      "cell_type": "code",
      "metadata": {
        "id": "rR8jIWSafGLR",
        "colab": {
          "base_uri": "https://localhost:8080/"
        },
        "outputId": "0f21bd8a-9d36-40cc-ceab-435b3b0ecc4a"
      },
      "source": [
        "# check to see if there is any null data\n",
        "np.isnan(np.sum(samples))"
      ],
      "execution_count": 23,
      "outputs": [
        {
          "output_type": "execute_result",
          "data": {
            "text/plain": [
              "False"
            ]
          },
          "metadata": {},
          "execution_count": 23
        }
      ]
    },
    {
      "cell_type": "code",
      "metadata": {
        "id": "QMjtimPhfGLT"
      },
      "source": [
        "# set print options to make things look nicer\n",
        "np.set_printoptions(suppress=True, linewidth=125)"
      ],
      "execution_count": 24,
      "outputs": []
    },
    {
      "cell_type": "code",
      "metadata": {
        "id": "hwXoQA_rfGLY",
        "colab": {
          "base_uri": "https://localhost:8080/"
        },
        "outputId": "c10cf860-970e-4963-c89f-287170a35a54"
      },
      "source": [
        "# find median, variance of the data and put it out in nice looking format\n",
        "median = np.round(np.median(samples, axis=0), decimals=1)\n",
        "variance = np.round(np.var(samples, axis=0), decimals=1)\n",
        "basic_stats = np.vstack((median, variance))\n",
        "basic_stats_label = ['  median','variance']\n",
        "print('\\t\\tCRIM\\tZN\\tINDUS\\tCHAS\\tNOX\\tRM\\tAGE\\tDIS\\tRAD\\tTAX\\tPTRATIO\\tB\\tLSTAT')\n",
        "for basic_stats_label, row in zip(basic_stats_label, basic_stats):\n",
        "    print('{} [\\t{}]'.format(basic_stats_label,\"\".join('%s\\t'%i for i in row)))"
      ],
      "execution_count": 25,
      "outputs": [
        {
          "output_type": "stream",
          "name": "stdout",
          "text": [
            "\t\tCRIM\tZN\tINDUS\tCHAS\tNOX\tRM\tAGE\tDIS\tRAD\tTAX\tPTRATIO\tB\tLSTAT\n",
            "  median [\t0.3\t0.0\t9.7\t0.0\t0.5\t6.2\t77.5\t3.2\t5.0\t330.0\t19.0\t391.4\t11.4\t]\n",
            "variance [\t73.8\t542.9\t47.0\t0.1\t0.0\t0.5\t790.8\t4.4\t75.7\t28348.6\t4.7\t8318.3\t50.9\t]\n"
          ]
        }
      ]
    },
    {
      "cell_type": "markdown",
      "metadata": {
        "id": "VS5mKl2lfGLb"
      },
      "source": [
        "---\n",
        "## Task 3\n",
        "1. Use function <code>stats.describe</code> to retrieve the `max` `min` and `average` of samples then display it as in the expected output similar to the output for `median` and `variance` above). \n",
        "<br><br>\n"
      ]
    },
    {
      "cell_type": "code",
      "metadata": {
        "id": "OkNtSOsIfGLb",
        "colab": {
          "base_uri": "https://localhost:8080/"
        },
        "outputId": "074ecfb0-2b43-4694-9c21-e4af27942092"
      },
      "source": [
        "# your code goes here:\n",
        "max = np.round(np.max(samples, axis=0), decimals=1)\n",
        "min = np.round(np.min(samples, axis=0), decimals=1)\n",
        "average=np.round(np.average(samples,axis=0), decimals=1)\n",
        "Stats = np.vstack((max, min, average))\n",
        "Stats_label = ['max','min', 'avg']\n",
        "print('\\tCRIM\\tZN\\tINDUS\\tCHAS\\tNOX\\tRM\\tAGE\\tDIS\\tRAD\\tTAX\\tPTRATIO\\tB\\tLSTAT')\n",
        "for Stats_label, row in zip(Stats_label, Stats):\n",
        "    print('{}[\\t{}]'.format(Stats_label,\"\".join('%s\\t'%i for i in row)))"
      ],
      "execution_count": 26,
      "outputs": [
        {
          "output_type": "stream",
          "name": "stdout",
          "text": [
            "\tCRIM\tZN\tINDUS\tCHAS\tNOX\tRM\tAGE\tDIS\tRAD\tTAX\tPTRATIO\tB\tLSTAT\n",
            "max[\t89.0\t100.0\t27.7\t1.0\t0.9\t8.8\t100.0\t12.1\t24.0\t711.0\t22.0\t396.9\t38.0\t]\n",
            "min[\t0.0\t0.0\t0.5\t0.0\t0.4\t3.6\t2.9\t1.1\t1.0\t187.0\t12.6\t0.3\t1.7\t]\n",
            "avg[\t3.6\t11.4\t11.1\t0.1\t0.6\t6.3\t68.6\t3.8\t9.5\t408.2\t18.5\t356.7\t12.7\t]\n"
          ]
        }
      ]
    },
    {
      "cell_type": "markdown",
      "source": [
        "import matplotlib.pyplot as plt\n",
        "\n",
        "# let plot out to see what is the distribution of Owner occupied units based on the data\n",
        "n, bins, patches = plt.hist(samples[:,6],bins='auto')\n",
        "plt.title(' Proportion of owner-occupied units built prior to 1940')\n",
        "plt.show()\n",
        "print('Bin sizes: {}'.format(n))\n"
      ],
      "metadata": {
        "id": "FzOg-yJwfGLe"
      }
    },
    {
      "cell_type": "markdown",
      "metadata": {
        "id": "53VG7TETfGLg"
      },
      "source": [
        "\n",
        "\n",
        "---\n",
        "\n",
        "\n",
        "## Task 4\n",
        "\n",
        "Plot out the histogram of another feature of the dataset that you are interested in, give the plot a title and also print out the bin sizes \n",
        "\n"
      ]
    },
    {
      "cell_type": "code",
      "metadata": {
        "id": "MALZsy3AfGLg",
        "colab": {
          "base_uri": "https://localhost:8080/",
          "height": 298
        },
        "outputId": "9d2076c9-de74-4bca-a8b4-a219326d2042"
      },
      "source": [
        "# TAX\n",
        "n, bins, patches = plt.hist(samples[:,9],bins='auto')\n",
        "plt.title('Full-value property-tax rate per $10,000')\n",
        "plt.show()\n",
        "print('Bin sizes: {}'.format(n))"
      ],
      "execution_count": 27,
      "outputs": [
        {
          "output_type": "display_data",
          "data": {
            "text/plain": [
              "<Figure size 432x288 with 1 Axes>"
            ],
            "image/png": "[encoded data removed]"
          },
          "metadata": {
            "needs_background": "light"
          }
        },
        {
          "output_type": "stream",
          "name": "stdout",
          "text": [
            "Bin sizes: [ 54. 100. 108.  32.  74.   1.   0.   0.   0. 137.]\n"
          ]
        }
      ]
    },
    {
      "cell_type": "markdown",
      "metadata": {
        "id": "xCxOpL8kvD1A"
      },
      "source": [
        "---\n",
        "## Task 5"
      ]
    },
    {
      "cell_type": "markdown",
      "metadata": {
        "id": "N3zhYgVKfGLm"
      },
      "source": [
        "\n",
        "\n",
        "Write a function that: \n",
        "* takes as input a given dataset and two numbers $a$ and $b$. \n",
        "* returns the ids of houses that tax is either less than $a$ or more than $b$. \n",
        "\n",
        "Demonstrate how the function runs with two specific inputs $a$ and $b$ of your choice. \n",
        "\n",
        "\n"
      ]
    },
    {
      "cell_type": "code",
      "metadata": {
        "id": "yTYkJsHgfGLk",
        "colab": {
          "base_uri": "https://localhost:8080/"
        },
        "outputId": "36b425d3-bb13-445c-9c27-6896f6ec39ae"
      },
      "source": [
        "def house_with_defined_age(dataset,age):\n",
        "    '''This function will return indices of all house with proportion of owner-occupied units built prior to 1940 greater than age%'''\n",
        "    ids = []\n",
        "    for id, record in enumerate(dataset):\n",
        "        if record[6]>age:\n",
        "            ids.append(id)\n",
        "    return ids\n",
        "\n",
        "# list out all records with unites built prior to 1940 greater than 50%\n",
        "samples[house_with_defined_age(samples,50)]"
      ],
      "execution_count": 28,
      "outputs": [
        {
          "output_type": "execute_result",
          "data": {
            "text/plain": [
              "array([[  0.00632,  18.     ,   2.31   , ...,  15.3    , 396.9    ,   4.98   ],\n",
              "       [  0.02731,   0.     ,   7.07   , ...,  17.8    , 396.9    ,   9.14   ],\n",
              "       [  0.02729,   0.     ,   7.07   , ...,  17.8    , 392.83   ,   4.03   ],\n",
              "       ...,\n",
              "       [  0.06076,   0.     ,  11.93   , ...,  21.     , 396.9    ,   5.64   ],\n",
              "       [  0.10959,   0.     ,  11.93   , ...,  21.     , 393.45   ,   6.48   ],\n",
              "       [  0.04741,   0.     ,  11.93   , ...,  21.     , 396.9    ,   7.88   ]])"
            ]
          },
          "metadata": {},
          "execution_count": 28
        }
      ]
    },
    {
      "cell_type": "code",
      "source": [
        "print(ds.DESCR)"
      ],
      "metadata": {
        "colab": {
          "base_uri": "https://localhost:8080/"
        },
        "id": "wKPt5irVKcPG",
        "outputId": "8853c1fa-f2bf-458e-bebe-91d923eef07c"
      },
      "execution_count": 29,
      "outputs": [
        {
          "output_type": "stream",
          "name": "stdout",
          "text": [
            ".. _boston_dataset:\n",
            "\n",
            "Boston house prices dataset\n",
            "---------------------------\n",
            "\n",
            "**Data Set Characteristics:**  \n",
            "\n",
            "    :Number of Instances: 506 \n",
            "\n",
            "    :Number of Attributes: 13 numeric/categorical predictive. Median Value (attribute 14) is usually the target.\n",
            "\n",
            "    :Attribute Information (in order):\n",
            "        - CRIM     per capita crime rate by town\n",
            "        - ZN       proportion of residential land zoned for lots over 25,000 sq.ft.\n",
            "        - INDUS    proportion of non-retail business acres per town\n",
            "        - CHAS     Charles River dummy variable (= 1 if tract bounds river; 0 otherwise)\n",
            "        - NOX      nitric oxides concentration (parts per 10 million)\n",
            "        - RM       average number of rooms per dwelling\n",
            "        - AGE      proportion of owner-occupied units built prior to 1940\n",
            "        - DIS      weighted distances to five Boston employment centres\n",
            "        - RAD      index of accessibility to radial highways\n",
            "        - TAX      full-value property-tax rate per $10,000\n",
            "        - PTRATIO  pupil-teacher ratio by town\n",
            "        - B        1000(Bk - 0.63)^2 where Bk is the proportion of black people by town\n",
            "        - LSTAT    % lower status of the population\n",
            "        - MEDV     Median value of owner-occupied homes in $1000's\n",
            "\n",
            "    :Missing Attribute Values: None\n",
            "\n",
            "    :Creator: Harrison, D. and Rubinfeld, D.L.\n",
            "\n",
            "This is a copy of UCI ML housing dataset.\n",
            "https://archive.ics.uci.edu/ml/machine-learning-databases/housing/\n",
            "\n",
            "\n",
            "This dataset was taken from the StatLib library which is maintained at Carnegie Mellon University.\n",
            "\n",
            "The Boston house-price data of Harrison, D. and Rubinfeld, D.L. 'Hedonic\n",
            "prices and the demand for clean air', J. Environ. Economics & Management,\n",
            "vol.5, 81-102, 1978.   Used in Belsley, Kuh & Welsch, 'Regression diagnostics\n",
            "...', Wiley, 1980.   N.B. Various transformations are used in the table on\n",
            "pages 244-261 of the latter.\n",
            "\n",
            "The Boston house-price data has been used in many machine learning papers that address regression\n",
            "problems.   \n",
            "     \n",
            ".. topic:: References\n",
            "\n",
            "   - Belsley, Kuh & Welsch, 'Regression diagnostics: Identifying Influential Data and Sources of Collinearity', Wiley, 1980. 244-261.\n",
            "   - Quinlan,R. (1993). Combining Instance-Based and Model-Based Learning. In Proceedings on the Tenth International Conference of Machine Learning, 236-243, University of Massachusetts, Amherst. Morgan Kaufmann.\n",
            "\n"
          ]
        }
      ]
    },
    {
      "cell_type": "code",
      "metadata": {
        "id": "6_0OKNXtfGLn",
        "colab": {
          "base_uri": "https://localhost:8080/"
        },
        "outputId": "72299f93-cbd8-4e79-ace6-2c1c73685daf"
      },
      "source": [
        "# your code goes here\n",
        "def house_with_tax_limit(dataset,tax1, tax2):\n",
        "    '''This function will return indices of all houses with tax>100 and tax<500 %'''\n",
        "    ids = []\n",
        "    for id, record in enumerate(dataset):\n",
        "        if record[9]>tax1 and record[9]<tax2:\n",
        "            ids.append(id)\n",
        "    return ids\n",
        "samples[house_with_tax_limit(samples,50,500)]"
      ],
      "execution_count": 30,
      "outputs": [
        {
          "output_type": "execute_result",
          "data": {
            "text/plain": [
              "array([[  0.00632,  18.     ,   2.31   , ...,  15.3    , 396.9    ,   4.98   ],\n",
              "       [  0.02731,   0.     ,   7.07   , ...,  17.8    , 396.9    ,   9.14   ],\n",
              "       [  0.02729,   0.     ,   7.07   , ...,  17.8    , 392.83   ,   4.03   ],\n",
              "       ...,\n",
              "       [  0.06076,   0.     ,  11.93   , ...,  21.     , 396.9    ,   5.64   ],\n",
              "       [  0.10959,   0.     ,  11.93   , ...,  21.     , 393.45   ,   6.48   ],\n",
              "       [  0.04741,   0.     ,  11.93   , ...,  21.     , 396.9    ,   7.88   ]])"
            ]
          },
          "metadata": {},
          "execution_count": 30
        }
      ]
    }
  ]
}